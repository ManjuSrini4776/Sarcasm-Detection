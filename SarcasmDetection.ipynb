{
 "cells": [
  {
   "cell_type": "code",
   "execution_count": 1,
   "id": "65c7c3dd-afde-4a11-88dd-0461a6b829b0",
   "metadata": {},
   "outputs": [
    {
     "name": "stdout",
     "output_type": "stream",
     "text": [
      "Requirement already satisfied: pandas in c:\\users\\manju\\anaconda3\\lib\\site-packages (2.2.2)\n",
      "Requirement already satisfied: numpy>=1.26.0 in c:\\users\\manju\\anaconda3\\lib\\site-packages (from pandas) (1.26.4)\n",
      "Requirement already satisfied: python-dateutil>=2.8.2 in c:\\users\\manju\\anaconda3\\lib\\site-packages (from pandas) (2.9.0.post0)\n",
      "Requirement already satisfied: pytz>=2020.1 in c:\\users\\manju\\anaconda3\\lib\\site-packages (from pandas) (2024.1)\n",
      "Requirement already satisfied: tzdata>=2022.7 in c:\\users\\manju\\anaconda3\\lib\\site-packages (from pandas) (2023.3)\n",
      "Requirement already satisfied: six>=1.5 in c:\\users\\manju\\anaconda3\\lib\\site-packages (from python-dateutil>=2.8.2->pandas) (1.16.0)\n",
      "Note: you may need to restart the kernel to use updated packages.\n"
     ]
    }
   ],
   "source": [
    "pip install pandas\n"
   ]
  },
  {
   "cell_type": "code",
   "execution_count": 5,
   "id": "0712ba7b-1598-4c5b-bcf5-ec4b6ebdb02e",
   "metadata": {},
   "outputs": [
    {
     "name": "stdout",
     "output_type": "stream",
     "text": [
      "Dataset loaded successfully!\n",
      "\n",
      "First 5 rows of the dataset:\n",
      "   is_sarcastic                                           headline  \\\n",
      "0             1  thirtysomething scientists unveil doomsday clo...   \n",
      "1             0  dem rep. totally nails why congress is falling...   \n",
      "2             0  eat your veggies: 9 deliciously different recipes   \n",
      "3             1  inclement weather prevents liar from getting t...   \n",
      "4             1  mother comes pretty close to using word 'strea...   \n",
      "\n",
      "                                        article_link  \n",
      "0  https://www.theonion.com/thirtysomething-scien...  \n",
      "1  https://www.huffingtonpost.com/entry/donna-edw...  \n",
      "2  https://www.huffingtonpost.com/entry/eat-your-...  \n",
      "3  https://local.theonion.com/inclement-weather-p...  \n",
      "4  https://www.theonion.com/mother-comes-pretty-c...  \n",
      "\n",
      "Information about the dataset:\n",
      "<class 'pandas.core.frame.DataFrame'>\n",
      "RangeIndex: 28619 entries, 0 to 28618\n",
      "Data columns (total 3 columns):\n",
      " #   Column        Non-Null Count  Dtype \n",
      "---  ------        --------------  ----- \n",
      " 0   is_sarcastic  28619 non-null  int64 \n",
      " 1   headline      28619 non-null  object\n",
      " 2   article_link  28619 non-null  object\n",
      "dtypes: int64(1), object(2)\n",
      "memory usage: 670.9+ KB\n",
      "None\n",
      "\n",
      "Distribution of sarcastic vs. non-sarcastic headlines:\n",
      "is_sarcastic\n",
      "0    14985\n",
      "1    13634\n",
      "Name: count, dtype: int64\n"
     ]
    }
   ],
   "source": [
    "import pandas as pd\n",
    "\n",
    "# Load the JSON dataset into a pandas DataFrame\n",
    "try:\n",
    "    df = pd.read_json('Sarcasm_Headlines_Dataset.json', lines=True)\n",
    "    print(\"Dataset loaded successfully!\")\n",
    "except FileNotFoundError:\n",
    "    print(\"Error: Sarcasm_Headlines_Dataset.json not found. Please make sure the file is in the correct directory.\")\n",
    "    df = None\n",
    "\n",
    "# If the dataset was loaded successfully, let's explore the first few rows\n",
    "if df is not None:\n",
    "    print(\"\\nFirst 5 rows of the dataset:\")\n",
    "    print(df.head())\n",
    "\n",
    "    # Let's also get some basic information about the dataset\n",
    "    print(\"\\nInformation about the dataset:\")\n",
    "    print(df.info())\n",
    "\n",
    "    # And check the distribution of the target variable\n",
    "    print(\"\\nDistribution of sarcastic vs. non-sarcastic headlines:\")\n",
    "    print(df['is_sarcastic'].value_counts())"
   ]
  },
  {
   "cell_type": "code",
   "execution_count": 7,
   "id": "97839963-8259-47a2-b3ea-b34b988602d3",
   "metadata": {},
   "outputs": [
    {
     "name": "stdout",
     "output_type": "stream",
     "text": [
      "\n",
      "First 5 rows after dropping 'article_link':\n",
      "   is_sarcastic                                           headline\n",
      "0             1  thirtysomething scientists unveil doomsday clo...\n",
      "1             0  dem rep. totally nails why congress is falling...\n",
      "2             0  eat your veggies: 9 deliciously different recipes\n",
      "3             1  inclement weather prevents liar from getting t...\n",
      "4             1  mother comes pretty close to using word 'strea...\n",
      "\n",
      "Information about the dataset after dropping 'article_link':\n",
      "<class 'pandas.core.frame.DataFrame'>\n",
      "RangeIndex: 28619 entries, 0 to 28618\n",
      "Data columns (total 2 columns):\n",
      " #   Column        Non-Null Count  Dtype \n",
      "---  ------        --------------  ----- \n",
      " 0   is_sarcastic  28619 non-null  int64 \n",
      " 1   headline      28619 non-null  object\n",
      "dtypes: int64(1), object(1)\n",
      "memory usage: 447.3+ KB\n",
      "None\n"
     ]
    }
   ],
   "source": [
    "# Drop the 'article_link' column\n",
    "df = df.drop('article_link', axis=1)\n",
    "\n",
    "# Let's check the first 5 rows again to confirm the column is dropped\n",
    "print(\"\\nFirst 5 rows after dropping 'article_link':\")\n",
    "print(df.head())\n",
    "\n",
    "# Let's also check the DataFrame info to see the updated columns\n",
    "print(\"\\nInformation about the dataset after dropping 'article_link':\")\n",
    "print(df.info())"
   ]
  },
  {
   "cell_type": "code",
   "execution_count": 9,
   "id": "b4bc7719-8f24-4b02-b316-c84d42105981",
   "metadata": {},
   "outputs": [
    {
     "name": "stdout",
     "output_type": "stream",
     "text": [
      "\n",
      "Descriptive statistics of headline lengths:\n",
      "count    28619.000000\n",
      "mean        10.049967\n",
      "std          3.388307\n",
      "min          2.000000\n",
      "25%          8.000000\n",
      "50%         10.000000\n",
      "75%         12.000000\n",
      "max        151.000000\n",
      "Name: headline_length, dtype: float64\n"
     ]
    },
    {
     "data": {
      "image/png": "[encoded data removed]",
      "text/plain": [
       "<Figure size 1000x600 with 1 Axes>"
      ]
     },
     "metadata": {},
     "output_type": "display_data"
    }
   ],
   "source": [
    "# Get the length of each headline (number of words)\n",
    "headline_lengths = df['headline'].apply(lambda x: len(x.split()))\n",
    "\n",
    "# Add the headline lengths as a new column to the DataFrame (optional, but can be useful)\n",
    "df['headline_length'] = headline_lengths\n",
    "\n",
    "# Display some descriptive statistics of the headline lengths\n",
    "print(\"\\nDescriptive statistics of headline lengths:\")\n",
    "print(df['headline_length'].describe())\n",
    "\n",
    "# You can also visualize the distribution using a histogram (optional, requires matplotlib)\n",
    "import matplotlib.pyplot as plt\n",
    "import seaborn as sns\n",
    "\n",
    "plt.figure(figsize=(10, 6))\n",
    "sns.histplot(df['headline_length'], bins=50, kde=True)\n",
    "plt.title('Distribution of Headline Lengths')\n",
    "plt.xlabel('Headline Length (Number of Words)')\n",
    "plt.ylabel('Frequency')\n",
    "plt.show()"
   ]
  },
  {
   "cell_type": "code",
   "execution_count": 11,
   "id": "67269e7c-84d7-4c43-8503-99dd01acea00",
   "metadata": {},
   "outputs": [
    {
     "name": "stdout",
     "output_type": "stream",
     "text": [
      "\n",
      "95th percentile of headline lengths: 16.0\n"
     ]
    }
   ],
   "source": [
    "# Calculate the 95th percentile of headline lengths\n",
    "percentile_95 = df['headline_length'].quantile(0.95)\n",
    "print(f\"\\n95th percentile of headline lengths: {percentile_95}\")"
   ]
  },
  {
   "cell_type": "code",
   "execution_count": 25,
   "id": "de2d7b63-6517-486c-9661-11aeb729d731",
   "metadata": {},
   "outputs": [],
   "source": [
    "# Define parameters\n",
    "MAX_SEQUENCE_LENGTH = 20  # We'll pad/truncate headlines to this length. Slightly higher than 95th percentile to be safe.\n",
    "EMBEDDING_DIM = 50    # Dimensionality of the GloVe word embeddings we'll use.\n",
    "OOV_TOKEN = \"<OOV>\"       # Token for out-of-vocabulary words.\n",
    "TRUNCATING = 'post'       # Truncate sequences at the end.\n",
    "PADDING = 'post'          # Pad sequences at the end.\n",
    "TEST_SIZE = 0.2           # Fraction of data to use for testing (we'll split later).\n",
    "RANDOM_STATE = 42         # For reproducibility.\n",
    "BATCH_SIZE = 32           # Number of samples per training batch.\n",
    "NUM_EPOCHS = 10           # Number of training epochs (we can adjust this)."
   ]
  },
  {
   "cell_type": "code",
   "execution_count": 27,
   "id": "1f1a0d0e-2716-44a2-9c0a-7d628fbdfb64",
   "metadata": {},
   "outputs": [
    {
     "name": "stdout",
     "output_type": "stream",
     "text": [
      "First 20 items in the word index:\n",
      "<OOV>           : 1\n",
      "to              : 2\n",
      "of              : 3\n",
      "the             : 4\n",
      "in              : 5\n",
      "for             : 6\n",
      "a               : 7\n",
      "on              : 8\n",
      "and             : 9\n",
      "with            : 10\n",
      "is              : 11\n",
      "new             : 12\n",
      "trump           : 13\n",
      "man             : 14\n",
      "at              : 15\n",
      "from            : 16\n",
      "about           : 17\n",
      "by              : 18\n",
      "after           : 19\n",
      "you             : 20\n"
     ]
    }
   ],
   "source": [
    "from tensorflow.keras.preprocessing.text import Tokenizer\n",
    "\n",
    "# Initialize the Tokenizer\n",
    "tokenizer = Tokenizer(oov_token=OOV_TOKEN)\n",
    "\n",
    "# Fit the tokenizer on our headlines\n",
    "tokenizer.fit_on_texts(df['headline'])\n",
    "\n",
    "# Get the word index (vocabulary)\n",
    "word_index = tokenizer.word_index\n",
    "\n",
    "print(\"First 20 items in the word index:\")\n",
    "for item in list(word_index.items())[:20]:\n",
    "    print(f\"{item[0]:<15} : {item[1]}\")"
   ]
  },
  {
   "cell_type": "code",
   "execution_count": 31,
   "id": "7e62aa4a-6df5-4a89-969f-f9ae7f0d90a4",
   "metadata": {},
   "outputs": [
    {
     "name": "stdout",
     "output_type": "stream",
     "text": [
      "Shape of training sequences: (22895, 20)\n",
      "Shape of testing sequences: (5724, 20)\n",
      "Shape of training labels: (22895,)\n",
      "Shape of testing labels: (5724,)\n",
      "\n",
      "Example of a padded sequence:\n",
      "[  28   13  110  716   17  843   67 4950    5   43 1742    0    0    0\n",
      "    0    0    0    0    0    0]\n",
      "\n",
      "Corresponding label:\n",
      "0\n"
     ]
    }
   ],
   "source": [
    "from tensorflow.keras.preprocessing.sequence import pad_sequences\n",
    "from sklearn.model_selection import train_test_split\n",
    "import numpy as np\n",
    "\n",
    "# Convert text headlines to sequences of indices\n",
    "sequences = tokenizer.texts_to_sequences(df['headline'])\n",
    "\n",
    "# Pad sequences to the defined MAX_SEQUENCE_LENGTH\n",
    "padded_sequences = pad_sequences(sequences, maxlen=MAX_SEQUENCE_LENGTH, padding=PADDING, truncating=TRUNCATING)\n",
    "\n",
    "# Get the labels\n",
    "labels = np.array(df['is_sarcastic'])\n",
    "\n",
    "# Split the data into training and testing sets\n",
    "train_sequences, test_sequences, train_labels, test_labels = train_test_split(\n",
    "    padded_sequences, labels, test_size=TEST_SIZE, random_state=RANDOM_STATE\n",
    ")\n",
    "\n",
    "print(\"Shape of training sequences:\", train_sequences.shape)\n",
    "print(\"Shape of testing sequences:\", test_sequences.shape)\n",
    "print(\"Shape of training labels:\", train_labels.shape)\n",
    "print(\"Shape of testing labels:\", test_labels.shape)\n",
    "\n",
    "print(\"\\nExample of a padded sequence:\")\n",
    "print(train_sequences[0])\n",
    "print(\"\\nCorresponding label:\")\n",
    "print(train_labels[0])"
   ]
  },
  {
   "cell_type": "code",
   "execution_count": 33,
   "id": "98f6dfcc-2a33-4fed-9cc1-41a5bcdc99ff",
   "metadata": {},
   "outputs": [
    {
     "name": "stdout",
     "output_type": "stream",
     "text": [
      "Vocabulary size: 30886\n"
     ]
    }
   ],
   "source": [
    "# Get the vocabulary size\n",
    "vocab_size = len(tokenizer.word_index) + 1  # Add 1 because the indices start from 1\n",
    "\n",
    "print(f\"Vocabulary size: {vocab_size}\")"
   ]
  },
  {
   "cell_type": "code",
   "execution_count": 35,
   "id": "948e171d-185d-4f64-a5e6-5504ddc8ac0d",
   "metadata": {},
   "outputs": [
    {
     "name": "stdout",
     "output_type": "stream",
     "text": [
      "Loaded 400000 word vectors from GloVe.\n",
      "\n",
      "Shape of the embedding matrix: (30886, 50)\n"
     ]
    }
   ],
   "source": [
    "# Path to the GloVe embeddings file\n",
    "GLOVE_FILE_PATH = 'D:\\\\Second Sem Subjects\\\\NLP\\\\NLPA_LLT_25\\\\glove.6B.50d.txt'\n",
    "\n",
    "# Initialize an empty dictionary to store word embeddings\n",
    "embeddings_index = {}\n",
    "\n",
    "try:\n",
    "    with open(GLOVE_FILE_PATH, encoding='utf-8') as f:\n",
    "        for line in f:\n",
    "            values = line.split()\n",
    "            word = values[0]\n",
    "            coefs = np.asarray(values[1:], dtype='float32')\n",
    "            embeddings_index[word] = coefs\n",
    "    print(f\"Loaded {len(embeddings_index)} word vectors from GloVe.\")\n",
    "except FileNotFoundError:\n",
    "    print(f\"Error: GloVe embeddings file not found at {GLOVE_FILE_PATH}. Please download it and ensure the path is correct.\")\n",
    "    embeddings_index = None\n",
    "\n",
    "if embeddings_index is not None:\n",
    "    # Create an embedding matrix for our vocabulary\n",
    "    embedding_matrix = np.zeros((vocab_size, EMBEDDING_DIM))\n",
    "    for word, i in tokenizer.word_index.items():\n",
    "        embedding_vector = embeddings_index.get(word)\n",
    "        if embedding_vector is not None:\n",
    "            # Words not found in embedding index will be all-zeros.\n",
    "            embedding_matrix[i] = embedding_vector\n",
    "\n",
    "    print(f\"\\nShape of the embedding matrix: {embedding_matrix.shape}\")"
   ]
  },
  {
   "cell_type": "code",
   "execution_count": 37,
   "id": "ec55d0ad-e55a-427c-8042-33c8319c85b7",
   "metadata": {},
   "outputs": [
    {
     "name": "stderr",
     "output_type": "stream",
     "text": [
      "C:\\Users\\Manju\\anaconda3\\Lib\\site-packages\\keras\\src\\layers\\core\\embedding.py:90: UserWarning: Argument `input_length` is deprecated. Just remove it.\n",
      "  warnings.warn(\n"
     ]
    },
    {
     "data": {
      "text/html": [
       "<pre style=\"white-space:pre;overflow-x:auto;line-height:normal;font-family:Menlo,'DejaVu Sans Mono',consolas,'Courier New',monospace\"><span style=\"font-weight: bold\">Model: \"sequential\"</span>\n",
       "</pre>\n"
      ],
      "text/plain": [
       "\u001b[1mModel: \"sequential\"\u001b[0m\n"
      ]
     },
     "metadata": {},
     "output_type": "display_data"
    },
    {
     "data": {
      "text/html": [
       "<pre style=\"white-space:pre;overflow-x:auto;line-height:normal;font-family:Menlo,'DejaVu Sans Mono',consolas,'Courier New',monospace\">┏━━━━━━━━━━━━━━━━━━━━━━━━━━━━━━━━━━━━━━┳━━━━━━━━━━━━━━━━━━━━━━━━━━━━━┳━━━━━━━━━━━━━━━━━┓\n",
       "┃<span style=\"font-weight: bold\"> Layer (type)                         </span>┃<span style=\"font-weight: bold\"> Output Shape                </span>┃<span style=\"font-weight: bold\">         Param # </span>┃\n",
       "┡━━━━━━━━━━━━━━━━━━━━━━━━━━━━━━━━━━━━━━╇━━━━━━━━━━━━━━━━━━━━━━━━━━━━━╇━━━━━━━━━━━━━━━━━┩\n",
       "│ embedding (<span style=\"color: #0087ff; text-decoration-color: #0087ff\">Embedding</span>)                │ ?                           │       <span style=\"color: #00af00; text-decoration-color: #00af00\">1,544,300</span> │\n",
       "├──────────────────────────────────────┼─────────────────────────────┼─────────────────┤\n",
       "│ bidirectional (<span style=\"color: #0087ff; text-decoration-color: #0087ff\">Bidirectional</span>)        │ ?                           │     <span style=\"color: #00af00; text-decoration-color: #00af00\">0</span> (unbuilt) │\n",
       "├──────────────────────────────────────┼─────────────────────────────┼─────────────────┤\n",
       "│ bidirectional_1 (<span style=\"color: #0087ff; text-decoration-color: #0087ff\">Bidirectional</span>)      │ ?                           │     <span style=\"color: #00af00; text-decoration-color: #00af00\">0</span> (unbuilt) │\n",
       "├──────────────────────────────────────┼─────────────────────────────┼─────────────────┤\n",
       "│ dense (<span style=\"color: #0087ff; text-decoration-color: #0087ff\">Dense</span>)                        │ ?                           │     <span style=\"color: #00af00; text-decoration-color: #00af00\">0</span> (unbuilt) │\n",
       "└──────────────────────────────────────┴─────────────────────────────┴─────────────────┘\n",
       "</pre>\n"
      ],
      "text/plain": [
       "┏━━━━━━━━━━━━━━━━━━━━━━━━━━━━━━━━━━━━━━┳━━━━━━━━━━━━━━━━━━━━━━━━━━━━━┳━━━━━━━━━━━━━━━━━┓\n",
       "┃\u001b[1m \u001b[0m\u001b[1mLayer (type)                        \u001b[0m\u001b[1m \u001b[0m┃\u001b[1m \u001b[0m\u001b[1mOutput Shape               \u001b[0m\u001b[1m \u001b[0m┃\u001b[1m \u001b[0m\u001b[1m        Param #\u001b[0m\u001b[1m \u001b[0m┃\n",
       "┡━━━━━━━━━━━━━━━━━━━━━━━━━━━━━━━━━━━━━━╇━━━━━━━━━━━━━━━━━━━━━━━━━━━━━╇━━━━━━━━━━━━━━━━━┩\n",
       "│ embedding (\u001b[38;5;33mEmbedding\u001b[0m)                │ ?                           │       \u001b[38;5;34m1,544,300\u001b[0m │\n",
       "├──────────────────────────────────────┼─────────────────────────────┼─────────────────┤\n",
       "│ bidirectional (\u001b[38;5;33mBidirectional\u001b[0m)        │ ?                           │     \u001b[38;5;34m0\u001b[0m (unbuilt) │\n",
       "├──────────────────────────────────────┼─────────────────────────────┼─────────────────┤\n",
       "│ bidirectional_1 (\u001b[38;5;33mBidirectional\u001b[0m)      │ ?                           │     \u001b[38;5;34m0\u001b[0m (unbuilt) │\n",
       "├──────────────────────────────────────┼─────────────────────────────┼─────────────────┤\n",
       "│ dense (\u001b[38;5;33mDense\u001b[0m)                        │ ?                           │     \u001b[38;5;34m0\u001b[0m (unbuilt) │\n",
       "└──────────────────────────────────────┴─────────────────────────────┴─────────────────┘\n"
      ]
     },
     "metadata": {},
     "output_type": "display_data"
    },
    {
     "data": {
      "text/html": [
       "<pre style=\"white-space:pre;overflow-x:auto;line-height:normal;font-family:Menlo,'DejaVu Sans Mono',consolas,'Courier New',monospace\"><span style=\"font-weight: bold\"> Total params: </span><span style=\"color: #00af00; text-decoration-color: #00af00\">1,544,300</span> (5.89 MB)\n",
       "</pre>\n"
      ],
      "text/plain": [
       "\u001b[1m Total params: \u001b[0m\u001b[38;5;34m1,544,300\u001b[0m (5.89 MB)\n"
      ]
     },
     "metadata": {},
     "output_type": "display_data"
    },
    {
     "data": {
      "text/html": [
       "<pre style=\"white-space:pre;overflow-x:auto;line-height:normal;font-family:Menlo,'DejaVu Sans Mono',consolas,'Courier New',monospace\"><span style=\"font-weight: bold\"> Trainable params: </span><span style=\"color: #00af00; text-decoration-color: #00af00\">0</span> (0.00 B)\n",
       "</pre>\n"
      ],
      "text/plain": [
       "\u001b[1m Trainable params: \u001b[0m\u001b[38;5;34m0\u001b[0m (0.00 B)\n"
      ]
     },
     "metadata": {},
     "output_type": "display_data"
    },
    {
     "data": {
      "text/html": [
       "<pre style=\"white-space:pre;overflow-x:auto;line-height:normal;font-family:Menlo,'DejaVu Sans Mono',consolas,'Courier New',monospace\"><span style=\"font-weight: bold\"> Non-trainable params: </span><span style=\"color: #00af00; text-decoration-color: #00af00\">1,544,300</span> (5.89 MB)\n",
       "</pre>\n"
      ],
      "text/plain": [
       "\u001b[1m Non-trainable params: \u001b[0m\u001b[38;5;34m1,544,300\u001b[0m (5.89 MB)\n"
      ]
     },
     "metadata": {},
     "output_type": "display_data"
    }
   ],
   "source": [
    "from tensorflow.keras.models import Sequential\n",
    "from tensorflow.keras.layers import Embedding, Bidirectional, LSTM, Dense, Dropout\n",
    "\n",
    "# Define the model\n",
    "model = Sequential([\n",
    "    Embedding(vocab_size, EMBEDDING_DIM, weights=[embedding_matrix], input_length=MAX_SEQUENCE_LENGTH, trainable=False),\n",
    "    Bidirectional(LSTM(64, return_sequences=True)),\n",
    "    Bidirectional(LSTM(64)),\n",
    "    Dense(1, activation='sigmoid')\n",
    "])\n",
    "\n",
    "# Compile the model\n",
    "model.compile(optimizer='adam', loss='binary_crossentropy', metrics=['accuracy'])\n",
    "\n",
    "# Print the model summary\n",
    "model.summary()"
   ]
  },
  {
   "cell_type": "code",
   "execution_count": 39,
   "id": "726d55b8-4b66-46e1-9d14-a5eec6527f62",
   "metadata": {},
   "outputs": [
    {
     "name": "stdout",
     "output_type": "stream",
     "text": [
      "Epoch 1/10\n",
      "\u001b[1m644/644\u001b[0m \u001b[32m━━━━━━━━━━━━━━━━━━━━\u001b[0m\u001b[37m\u001b[0m \u001b[1m67s\u001b[0m 63ms/step - accuracy: 0.7046 - loss: 0.5621 - val_accuracy: 0.8017 - val_loss: 0.4259\n",
      "Epoch 2/10\n",
      "\u001b[1m644/644\u001b[0m \u001b[32m━━━━━━━━━━━━━━━━━━━━\u001b[0m\u001b[37m\u001b[0m \u001b[1m40s\u001b[0m 63ms/step - accuracy: 0.8262 - loss: 0.3859 - val_accuracy: 0.8245 - val_loss: 0.3836\n",
      "Epoch 3/10\n",
      "\u001b[1m644/644\u001b[0m \u001b[32m━━━━━━━━━━━━━━━━━━━━\u001b[0m\u001b[37m\u001b[0m \u001b[1m41s\u001b[0m 63ms/step - accuracy: 0.8534 - loss: 0.3307 - val_accuracy: 0.8349 - val_loss: 0.3610\n",
      "Epoch 4/10\n",
      "\u001b[1m644/644\u001b[0m \u001b[32m━━━━━━━━━━━━━━━━━━━━\u001b[0m\u001b[37m\u001b[0m \u001b[1m42s\u001b[0m 64ms/step - accuracy: 0.8720 - loss: 0.2940 - val_accuracy: 0.8520 - val_loss: 0.3537\n",
      "Epoch 5/10\n",
      "\u001b[1m644/644\u001b[0m \u001b[32m━━━━━━━━━━━━━━━━━━━━\u001b[0m\u001b[37m\u001b[0m \u001b[1m80s\u001b[0m 61ms/step - accuracy: 0.8883 - loss: 0.2589 - val_accuracy: 0.8467 - val_loss: 0.3598\n",
      "Epoch 6/10\n",
      "\u001b[1m644/644\u001b[0m \u001b[32m━━━━━━━━━━━━━━━━━━━━\u001b[0m\u001b[37m\u001b[0m \u001b[1m42s\u001b[0m 63ms/step - accuracy: 0.9050 - loss: 0.2226 - val_accuracy: 0.8463 - val_loss: 0.3686\n",
      "Epoch 7/10\n",
      "\u001b[1m644/644\u001b[0m \u001b[32m━━━━━━━━━━━━━━━━━━━━\u001b[0m\u001b[37m\u001b[0m \u001b[1m40s\u001b[0m 61ms/step - accuracy: 0.9231 - loss: 0.1892 - val_accuracy: 0.8463 - val_loss: 0.3790\n",
      "Epoch 8/10\n",
      "\u001b[1m644/644\u001b[0m \u001b[32m━━━━━━━━━━━━━━━━━━━━\u001b[0m\u001b[37m\u001b[0m \u001b[1m42s\u001b[0m 63ms/step - accuracy: 0.9420 - loss: 0.1477 - val_accuracy: 0.8493 - val_loss: 0.4046\n",
      "Epoch 9/10\n",
      "\u001b[1m644/644\u001b[0m \u001b[32m━━━━━━━━━━━━━━━━━━━━\u001b[0m\u001b[37m\u001b[0m \u001b[1m41s\u001b[0m 64ms/step - accuracy: 0.9543 - loss: 0.1152 - val_accuracy: 0.8467 - val_loss: 0.4517\n",
      "Epoch 10/10\n",
      "\u001b[1m644/644\u001b[0m \u001b[32m━━━━━━━━━━━━━━━━━━━━\u001b[0m\u001b[37m\u001b[0m \u001b[1m81s\u001b[0m 62ms/step - accuracy: 0.9657 - loss: 0.0872 - val_accuracy: 0.8463 - val_loss: 0.5240\n"
     ]
    }
   ],
   "source": [
    "# Create a validation set from the training data\n",
    "train_sequences_subset, val_sequences, train_labels_subset, val_labels = train_test_split(\n",
    "    train_sequences, train_labels, test_size=0.1, random_state=RANDOM_STATE\n",
    ")\n",
    "\n",
    "# Fit the model\n",
    "history = model.fit(\n",
    "    train_sequences_subset,\n",
    "    train_labels_subset,\n",
    "    epochs=NUM_EPOCHS,\n",
    "    batch_size=BATCH_SIZE,\n",
    "    validation_data=(val_sequences, val_labels),\n",
    "    verbose=1\n",
    ")"
   ]
  },
  {
   "cell_type": "code",
   "execution_count": 41,
   "id": "97df678f-0532-40e9-b58f-0163ce651e69",
   "metadata": {},
   "outputs": [
    {
     "name": "stdout",
     "output_type": "stream",
     "text": [
      "Test Loss: 0.4934\n",
      "Test Accuracy: 0.8489\n"
     ]
    }
   ],
   "source": [
    "# Evaluate the model on the test set\n",
    "loss, accuracy = model.evaluate(test_sequences, test_labels, verbose=0)\n",
    "\n",
    "print(f\"Test Loss: {loss:.4f}\")\n",
    "print(f\"Test Accuracy: {accuracy:.4f}\")"
   ]
  },
  {
   "cell_type": "code",
   "execution_count": 45,
   "id": "6ed538be-4082-45d1-9a31-25e8fb1d1b33",
   "metadata": {},
   "outputs": [
    {
     "name": "stdout",
     "output_type": "stream",
     "text": [
      "\u001b[1m179/179\u001b[0m \u001b[32m━━━━━━━━━━━━━━━━━━━━\u001b[0m\u001b[37m\u001b[0m \u001b[1m5s\u001b[0m 26ms/step\n",
      "\n",
      "First 20 Predicted vs. Actual Headlines:\n",
      "                                             headline  actual_sarcastic  \\\n",
      "0   states slow to shut down weak teacher educatio...                 0   \n",
      "1     drone places fresh kill on steps of white house                 1   \n",
      "2   report: majority of instances of people gettin...                 1   \n",
      "3   sole remaining lung filled with rich, satisfyi...                 1   \n",
      "4                        the gop's stockholm syndrome                 0   \n",
      "5                                   trump's game plan                 0   \n",
      "6   lea michele romances fake gosling in 'on my wa...                 0   \n",
      "7    report: that whole side of family just like that                 1   \n",
      "8   new extended paternity leave offers dads more ...                 1   \n",
      "9   nation hopeful there will be equally random ch...                 1   \n",
      "10  sean spicer finally calls it quits after 6 mon...                 0   \n",
      "11  band targeted in paris attacks makes emotional...                 0   \n",
      "12        eighth-grader drinks at twelfth-grade level                 1   \n",
      "13           perfect party dresses for your body type                 0   \n",
      "14        the 20 funniest tweets from women this week                 0   \n",
      "15  doctors discover purpose of appendix is to con...                 1   \n",
      "16  to all the meat-loving feminists of the world,...                 0   \n",
      "17       massive filament snakes across sun's surface                 0   \n",
      "18  reclaiming the sacred: five uniting religious ...                 0   \n",
      "19      2 gop senators drop endorsements of roy moore                 0   \n",
      "\n",
      "    predicted_sarcastic  \n",
      "0                     1  \n",
      "1                     1  \n",
      "2                     1  \n",
      "3                     1  \n",
      "4                     0  \n",
      "5                     0  \n",
      "6                     0  \n",
      "7                     1  \n",
      "8                     1  \n",
      "9                     1  \n",
      "10                    1  \n",
      "11                    1  \n",
      "12                    1  \n",
      "13                    0  \n",
      "14                    0  \n",
      "15                    1  \n",
      "16                    0  \n",
      "17                    0  \n",
      "18                    0  \n",
      "19                    0  \n"
     ]
    }
   ],
   "source": [
    "from sklearn.model_selection import train_test_split\n",
    "import numpy as np\n",
    "import pandas as pd\n",
    "\n",
    "# Assuming you have already created 'padded_sequences' and 'labels'\n",
    "\n",
    "# Split the data into training and testing sets, also getting the indices\n",
    "train_sequences, test_sequences, train_labels, test_labels, train_indices, test_indices = train_test_split(\n",
    "    padded_sequences, labels, df.index, test_size=TEST_SIZE, random_state=RANDOM_STATE\n",
    ")\n",
    "\n",
    "# Make predictions on the test set\n",
    "predictions = model.predict(test_sequences)\n",
    "\n",
    "# Convert probabilities to binary predictions (0 or 1)\n",
    "binary_predictions = np.round(predictions).flatten().astype(int)\n",
    "\n",
    "# Create a DataFrame to easily compare predictions with original headlines\n",
    "results_df = pd.DataFrame({'headline': df['headline'].iloc[test_indices].values,  # Get original headlines using the indices\n",
    "                           'actual_sarcastic': test_labels,\n",
    "                           'predicted_sarcastic': binary_predictions})\n",
    "\n",
    "print(\"\\nFirst 20 Predicted vs. Actual Headlines:\")\n",
    "print(results_df.head(20))"
   ]
  },
  {
   "cell_type": "code",
   "execution_count": 47,
   "id": "e7dfe5b2-70a3-4ed7-8dc1-d18f422f0827",
   "metadata": {},
   "outputs": [
    {
     "data": {
      "image/png": "[encoded data removed]",
      "text/plain": [
       "<Figure size 1000x600 with 1 Axes>"
      ]
     },
     "metadata": {},
     "output_type": "display_data"
    }
   ],
   "source": [
    "import matplotlib.pyplot as plt\n",
    "\n",
    "# Get the training accuracy and validation accuracy from the history object\n",
    "acc = history.history['accuracy']\n",
    "val_acc = history.history['val_accuracy']\n",
    "\n",
    "# Get the number of epochs\n",
    "epochs = range(1, len(acc) + 1)\n",
    "\n",
    "# Plot the training and validation accuracy\n",
    "plt.figure(figsize=(10, 6))\n",
    "plt.plot(epochs, acc, 'b', label='Training Accuracy')\n",
    "plt.plot(epochs, val_acc, 'r', label='Validation Accuracy')\n",
    "plt.title('Training and Validation Accuracy')\n",
    "plt.xlabel('Epochs')\n",
    "plt.ylabel('Accuracy')\n",
    "plt.legend()\n",
    "plt.show()"
   ]
  },
  {
   "cell_type": "code",
   "execution_count": 49,
   "id": "34c5c4f2-9aaf-4929-9721-ee4581f8b261",
   "metadata": {},
   "outputs": [
    {
     "name": "stdout",
     "output_type": "stream",
     "text": [
      "\n",
      "Confusion Matrix:\n",
      "[[2492  503]\n",
      " [ 362 2367]]\n",
      "\n",
      "Classification Report:\n",
      "              precision    recall  f1-score   support\n",
      "\n",
      "           0       0.87      0.83      0.85      2995\n",
      "           1       0.82      0.87      0.85      2729\n",
      "\n",
      "    accuracy                           0.85      5724\n",
      "   macro avg       0.85      0.85      0.85      5724\n",
      "weighted avg       0.85      0.85      0.85      5724\n",
      "\n"
     ]
    }
   ],
   "source": [
    "from sklearn.metrics import classification_report, confusion_matrix\n",
    "\n",
    "print(\"\\nConfusion Matrix:\")\n",
    "print(confusion_matrix(test_labels, binary_predictions))\n",
    "\n",
    "print(\"\\nClassification Report:\")\n",
    "print(classification_report(test_labels, binary_predictions))\n"
   ]
  },
  {
   "cell_type": "code",
   "execution_count": null,
   "id": "344fdab4-9c5d-4305-8ab1-fe14a3ea191c",
   "metadata": {},
   "outputs": [],
   "source": []
  },
  {
   "cell_type": "code",
   "execution_count": null,
   "id": "dfe8242c-f49b-4325-a236-71d03a5e20bc",
   "metadata": {},
   "outputs": [],
   "source": []
  },
  {
   "cell_type": "code",
   "execution_count": null,
   "id": "2a46a3ba-40f6-4530-a0f5-6aaffccf835d",
   "metadata": {},
   "outputs": [],
   "source": []
  }
 ],
 "metadata": {
  "kernelspec": {
   "display_name": "Python 3 (ipykernel)",
   "language": "python",
   "name": "python3"
  },
  "language_info": {
   "codemirror_mode": {
    "name": "ipython",
    "version": 3
   },
   "file_extension": ".py",
   "mimetype": "text/x-python",
   "name": "python",
   "nbconvert_exporter": "python",
   "pygments_lexer": "ipython3",
   "version": "3.12.4"
  }
 },
 "nbformat": 4,
 "nbformat_minor": 5
}
